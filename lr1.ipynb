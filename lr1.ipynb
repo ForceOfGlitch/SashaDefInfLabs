{
 "cells": [
  {
   "cell_type": "code",
   "execution_count": 26,
   "metadata": {},
   "outputs": [],
   "source": [
    "import random\n",
    "import math"
   ]
  },
  {
   "cell_type": "code",
   "execution_count": 27,
   "metadata": {},
   "outputs": [],
   "source": [
    "#Исходные данные \n",
    "P = math.pow(10, -4) \n",
    "T = 12 * 24 * 60 #mins\n",
    "V = 11 #pass/min\n",
    "A = \"QWERTYUIOPASDFGHJKLZXCVBNMqwertyuiopasdfghjklzxcvbnm1234567890!@#$%^&*()_+=-/.,';\""
   ]
  },
  {
   "cell_type": "code",
   "execution_count": 28,
   "metadata": {},
   "outputs": [],
   "source": [
    "S = V * T / P #вычисляем S* по формуле (1)"
   ]
  },
  {
   "cell_type": "code",
   "execution_count": 29,
   "metadata": {},
   "outputs": [
    {
     "name": "stdout",
     "output_type": "stream",
     "text": [
      "S = 1900800000.0\n"
     ]
    }
   ],
   "source": [
    "print(\"S = \" + str(S))"
   ]
  },
  {
   "cell_type": "code",
   "execution_count": 30,
   "metadata": {},
   "outputs": [],
   "source": [
    "def chooseL(Alen, S): #вычисляем минимальное L для алфавита A\n",
    "    return math.ceil(math.log(S, Alen))"
   ]
  },
  {
   "cell_type": "code",
   "execution_count": 32,
   "metadata": {},
   "outputs": [
    {
     "name": "stdout",
     "output_type": "stream",
     "text": [
      "L = 5\n"
     ]
    }
   ],
   "source": [
    "print(\"L = \" + str(chooseL(len(A), S)))"
   ]
  },
  {
   "cell_type": "code",
   "execution_count": 35,
   "metadata": {},
   "outputs": [],
   "source": [
    "def generatePassword(Alph, S): #генератор паролей\n",
    "    pas = '' #выходная строка пароля\n",
    "    L = chooseL(len(Alph), S) #выбираем миниимальную длину пароля\n",
    "    for i in range(L): #в зависимости от длины пароля генерируем столько же случайных символов из исходного алфавита\n",
    "        pas += random.choice(Alph)\n",
    "    return pas"
   ]
  },
  {
   "cell_type": "code",
   "execution_count": 44,
   "metadata": {},
   "outputs": [
    {
     "name": "stdout",
     "output_type": "stream",
     "text": [
      "G@Y2H\n"
     ]
    }
   ],
   "source": [
    "print(generatePassword(A, S))"
   ]
  }
 ],
 "metadata": {
  "interpreter": {
   "hash": "7585de03da07aff91778c0565f1fc3b72a2b56cda13ed14cba0b716b39314f65"
  },
  "kernelspec": {
   "display_name": "Python 3.9.10 64-bit",
   "language": "python",
   "name": "python3"
  },
  "language_info": {
   "codemirror_mode": {
    "name": "ipython",
    "version": 3
   },
   "file_extension": ".py",
   "mimetype": "text/x-python",
   "name": "python",
   "nbconvert_exporter": "python",
   "pygments_lexer": "ipython3",
   "version": "3.9.10"
  },
  "orig_nbformat": 4
 },
 "nbformat": 4,
 "nbformat_minor": 2
}
